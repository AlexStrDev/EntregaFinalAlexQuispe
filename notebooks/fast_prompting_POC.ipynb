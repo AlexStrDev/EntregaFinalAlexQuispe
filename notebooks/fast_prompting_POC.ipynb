{
 "cells": [
  {
   "cell_type": "markdown",
   "metadata": {},
   "source": [
    "# Fast Prompting en Acción: Desentrañando la Magia\n",
    "## Proyecto Final - Alex Quispe\n",
    "\n",
    "### 📌 1. Introducción\n",
    "\n",
    "En este proyecto se presenta una prueba de concepto (POC) que utiliza técnicas de **Fast Prompting** para resolver el problema de diseñar planes de ejercicio y alimentación personalizados.\n",
    "\n",
    "**Problema:** Muchas personas buscan mejorar su salud pero enfrentan planes genéricos que no consideran sus limitaciones, tiempo ni preferencias.\n",
    "\n",
    "**Solución:** Un asistente automatizado que genere rutinas de entrenamiento y alimentación personalizadas, además de material visual motivador."
   ]
  },
  {
   "cell_type": "markdown",
   "metadata": {},
   "source": [
    "### 📌 2. Configuración inicial\n",
    "\n",
    "**Importante:** Antes de ejecutar este notebook, configura tu API Key de OpenAI como variable de entorno:\n",
    "\n",
    "```bash\n",
    "export OPENAI_API_KEY=\"tu_api_key_aqui\"\n",
    "```\n",
    "\n",
    "O puedes configurarla directamente en el código (no recomendado para producción)."
   ]
  },
  {
   "cell_type": "code",
   "execution_count": null,
   "metadata": {},
   "outputs": [],
   "source": [
    "# Instalación de dependencias (ejecutar solo si es necesario)\n",
    "# !pip install openai\n",
    "\n",
    "from openai import OpenAI\n",
    "import os\n",
    "\n",
    "# Configura tu API Key\n",
    "client = OpenAI()\n",
    "# Si no tienes la variable de entorno, descomenta y usa la siguiente línea:\n",
    "# client = OpenAI(api_key=\"tu_api_key_aqui\")\n",
    "\n",
    "print(\"✅ Configuración completada\")"
   ]
  },
  {
   "cell_type": "markdown",
   "metadata": {},
   "source": [
    "### 📌 3. Prompts base para Fast Prompting\n",
    "\n",
    "Definimos plantillas de prompts que usaremos en Fast Prompting. Se reemplazan `{campos}` con los datos del usuario."
   ]
  },
  {
   "cell_type": "code",
   "execution_count": null,
   "metadata": {},
   "outputs": [],
   "source": [
    "prompt_plan = \"\"\"\n",
    "Eres un entrenador personal virtual con conocimientos básicos de nutrición.\n",
    "Recibirás los datos del usuario y debes generar:\n",
    "\n",
    "1) Plan de entrenamiento semanal detallado.\n",
    "2) Plan de comidas simple para 7 días.\n",
    "3) Lista de compras agrupada por categorías.\n",
    "4) Consejos de progresión y seguridad.\n",
    "\n",
    "Datos del usuario:\n",
    "Edad: {edad}\n",
    "Sexo: {sexo}\n",
    "Peso: {peso} kg\n",
    "Altura: {altura} cm\n",
    "Objetivo: {objetivo}\n",
    "Nivel: {nivel}\n",
    "Lesiones/limitaciones: {lesiones}\n",
    "Disponibilidad: {dias_por_semana} días, {minutos_por_sesion} min/sesión\n",
    "Equipo disponible: {equipo}\n",
    "Preferencias alimentarias: {preferencias}\n",
    "\n",
    "Entrega la respuesta estructurada en secciones numeradas.\n",
    "\"\"\"\n",
    "\n",
    "prompt_adaptacion = \"\"\"\n",
    "Toma el plan anterior y genera una versión alternativa que evite\n",
    "impacto en {zona_lesionada}. Mantén la misma duración y objetivo,\n",
    "proponiendo ejercicios sustitutos y modificaciones de intensidad.\n",
    "\"\"\"\n",
    "\n",
    "prompt_motivacion = \"\"\"\n",
    "Genera 7 mensajes motivacionales cortos, uno por día, orientados al\n",
    "objetivo {objetivo}. Cada mensaje debe incluir un consejo práctico\n",
    "y una micro-tarea sencilla.\n",
    "\"\"\"\n",
    "\n",
    "print(\"✅ Prompts definidos\")"
   ]
  },
  {
   "cell_type": "markdown",
   "metadata": {},
   "source": [
    "### 📌 4. Funciones auxiliares"
   ]
  },
  {
   "cell_type": "code",
   "execution_count": null,
   "metadata": {},
   "outputs": [],
   "source": [
    "def generar_respuesta(prompt: str) -> str:\n",
    "    \"\"\"Llama a la API con un prompt y devuelve la respuesta.\"\"\"\n",
    "    response = client.chat.completions.create(\n",
    "        model=\"gpt-4o-mini\",\n",
    "        messages=[{\"role\": \"user\", \"content\": prompt}],\n",
    "        max_tokens=800\n",
    "    )\n",
    "    return response.choices[0].message.content\n",
    "\n",
    "print(\"✅ Funciones auxiliares definidas\")"
   ]
  },
  {
   "cell_type": "markdown",
   "metadata": {},
   "source": [
    "### 📌 5. Caso de prueba con datos ficticios\n",
    "\n",
    "Definimos un usuario de ejemplo para probar nuestro sistema de Fast Prompting."
   ]
  },
  {
   "cell_type": "code",
   "execution_count": null,
   "metadata": {},
   "outputs": [],
   "source": [
    "usuario = {\n",
    "    \"edad\": 30,\n",
    "    \"sexo\": \"F\",\n",
    "    \"peso\": 72,\n",
    "    \"altura\": 168,\n",
    "    \"objetivo\": \"pérdida de peso\",\n",
    "    \"nivel\": \"principiante\",\n",
    "    \"lesiones\": \"rodilla derecha (leve, sin cirugía)\",\n",
    "    \"dias_por_semana\": 4,\n",
    "    \"minutos_por_sesion\": 45,\n",
    "    \"equipo\": \"banda elástica, mancuernas ligeras, silla\",\n",
    "    \"preferencias\": \"vegetariana\"\n",
    "}\n",
    "\n",
    "print(\"👤 Datos del usuario configurados:\")\n",
    "for key, value in usuario.items():\n",
    "    print(f\"  {key}: {value}\")"
   ]
  },
  {
   "cell_type": "markdown",
   "metadata": {},
   "source": [
    "### 📌 6. Generación del plan inicial"
   ]
  },
  {
   "cell_type": "code",
   "execution_count": null,
   "metadata": {},
   "outputs": [],
   "source": [
    "# Generamos el plan inicial\n",
    "prompt = prompt_plan.format(**usuario)\n",
    "plan_inicial = generar_respuesta(prompt)\n",
    "\n",
    "print(\"🏋️‍♀️ PLAN INICIAL GENERADO:\")\n",
    "print(\"=\" * 50)\n",
    "print(plan_inicial)"
   ]
  },
  {
   "cell_type": "markdown",
   "metadata": {},
   "source": [
    "### 📌 7. Adaptación del plan con Fast Prompting\n",
    "\n",
    "Ahora adaptamos el plan para tener en cuenta la lesión en la rodilla."
   ]
  },
  {
   "cell_type": "code",
   "execution_count": null,
   "metadata": {},
   "outputs": [],
   "source": [
    "prompt = prompt_adaptacion.format(zona_lesionada=\"rodilla derecha\")\n",
    "plan_adaptado = generar_respuesta(prompt)\n",
    "\n",
    "print(\"🦵 PLAN ADAPTADO PARA LESIÓN:\")\n",
    "print(\"=\" * 50)\n",
    "print(plan_adaptado)"
   ]
  },
  {
   "cell_type": "markdown",
   "metadata": {},
   "source": [
    "### 📌 8. Mensajes motivacionales"
   ]
  },
  {
   "cell_type": "code",
   "execution_count": null,
   "metadata": {},
   "outputs": [],
   "source": [
    "prompt = prompt_motivacion.format(objetivo=usuario[\"objetivo\"])\n",
    "mensajes = generar_respuesta(prompt)\n",
    "\n",
    "print(\"💪 MENSAJES MOTIVACIONALES:\")\n",
    "print(\"=\" * 50)\n",
    "print(mensajes)"
   ]
  },
  {
   "cell_type": "markdown",
   "metadata": {},
   "source": [
    "### 📌 9. Experimentación con Fast Prompting\n",
    "\n",
    "Ejemplo: pedimos al modelo que genere el plan en formato tabla en lugar de texto libre."
   ]
  },
  {
   "cell_type": "code",
   "execution_count": null,
   "metadata": {},
   "outputs": [],
   "source": [
    "prompt_tabla = prompt_plan.format(**usuario) + \"\"\"\n",
    "IMPORTANTE: Entrega los planes en formato de tabla Markdown para facilitar la lectura.\n",
    "\"\"\"\n",
    "\n",
    "plan_tabla = generar_respuesta(prompt_tabla)\n",
    "\n",
    "print(\"📊 PLAN EN FORMATO TABLA:\")\n",
    "print(\"=\" * 50)\n",
    "print(plan_tabla)"
   ]
  },
  {
   "cell_type": "markdown",
   "metadata": {},
   "source": [
    "### 10. Función para probar con nuevos usuarios\n",
    "\n",
    "Creamos una función reutilizable para generar planes para cualquier usuario."
   ]
  },
  {
   "cell_type": "code",
   "execution_count": null,
   "metadata": {},
   "outputs": [],
   "source": [
    "def generar_plan_completo(datos_usuario, formato_tabla=False):\n",
    "    \"\"\"Genera un plan completo para un usuario.\"\"\"\n",
    "    \n",
    "    # Elegir el prompt base\n",
    "    prompt_base = prompt_plan\n",
    "    if formato_tabla:\n",
    "        prompt_base += \"\\nIMPORTANTE: Entrega los planes en formato de tabla Markdown.\"\n",
    "    \n",
    "    # Generar plan principal\n",
    "    prompt = prompt_base.format(**datos_usuario)\n",
    "    plan = generar_respuesta(prompt)\n",
    "    \n",
    "    # Generar mensajes motivacionales\n",
    "    prompt_mot = prompt_motivacion.format(objetivo=datos_usuario[\"objetivo\"])\n",
    "    motivacion = generar_respuesta(prompt_mot)\n",
    "    \n",
    "    return {\n",
    "        \"plan_principal\": plan,\n",
    "        \"motivacion\": motivacion\n",
    "    }\n",
    "\n",
    "# Ejemplo de uso con nuevo usuario\n",
    "nuevo_usuario = {\n",
    "    \"edad\": 25,\n",
    "    \"sexo\": \"M\",\n",
    "    \"peso\": 80,\n",
    "    \"altura\": 175,\n",
    "    \"objetivo\": \"ganancia de masa muscular\",\n",
    "    \"nivel\": \"intermedio\",\n",
    "    \"lesiones\": \"ninguna\",\n",
    "    \"dias_por_semana\": 5,\n",
    "    \"minutos_por_sesion\": 60,\n",
    "    \"equipo\": \"gimnasio completo\",\n",
    "    \"preferencias\": \"omnívoro\"\n",
    "}\n",
    "\n",
    "print(\"🆕 PROBANDO CON NUEVO USUARIO:\")\n",
    "resultado = generar_plan_completo(nuevo_usuario, formato_tabla=True)\n",
    "print(\"\\n📋 PLAN:\")\n",
    "print(resultado[\"plan_principal\"])\n",
    "print(\"\\n💪 MOTIVACIÓN:\")\n",
    "print(resultado[\"motivacion\"])"
   ]
  },
  {
   "cell_type": "markdown",
   "metadata": {},
   "source": [
    "### 11. Generación de Material Visual (Texto → Imagen)\n",
    "\n",
    "Definimos los prompts para generación de imágenes"
   ]
  },
  {
   "cell_type": "code",
   "execution_count": null,
   "metadata": {},
   "outputs": [],
   "source": [
    "prompts_imagen = {\n",
    "    \"tarjeta_sentadillas\": \"\"\"\n",
    "    Create a vertical fitness instruction card (1080x1350) showing \"Chair-assisted squats for knee-friendly workout\". \n",
    "    Three numbered steps: 1) Woman standing behind sturdy chair, hands on backrest for support, \n",
    "    2) Slowly lowering into squat position while holding chair, keeping weight on heels, \n",
    "    3) Rising back to standing using chair for stability. Include \"BEGINNER LEVEL\" badge and \n",
    "    \"KNEE-FRIENDLY\" label. Clean minimalist style, light blue background, educational fitness illustration.\n",
    "    \"\"\",\n",
    "    \n",
    "    \"tarjeta_remo\": \"\"\"\n",
    "    Create a vertical exercise card (1080x1350) for \"Resistance band seated rows\". \n",
    "    Three steps: 1) Woman sitting on floor, legs extended, resistance band around feet, arms forward, \n",
    "    2) Pulling band back with elbows close to ribs, squeezing shoulder blades, \n",
    "    3) Controlled return to starting position. \"BEGINNER LEVEL\" badge. \n",
    "    Clean instructional design, light background, fitness app style.\n",
    "    \"\"\",\n",
    "    \n",
    "    \"infografia_semanal\": \"\"\"\n",
    "    Create a horizontal weekly workout infographic (1920x1080) titled \"Sarah's 4-Day Beginner Workout Plan - Week 1\". \n",
    "    Schedule: MONDAY: Full Body Strength (40 min), TUESDAY: Low-Impact Cardio (40 min), \n",
    "    WEDNESDAY: Rest Day, THURSDAY: Core & Stability (40 min), FRIDAY: Low-Impact HIIT (35 min), \n",
    "    WEEKEND: Rest Days. Include \"KNEE-FRIENDLY MODIFICATIONS\" badge, equipment needed, \n",
    "    total weekly time. Modern fitness app design, pastel colors, professional layout.\n",
    "    \"\"\"\n",
    "}"
   ]
  },
  {
   "cell_type": "markdown",
   "metadata": {},
   "source": [
    "Función para documentar la generación de imágenes"
   ]
  },
  {
   "cell_type": "code",
   "execution_count": null,
   "metadata": {},
   "outputs": [],
   "source": [
    "def documentar_imagen_generada(nombre, herramienta, prompt_usado, archivo_resultado):\n",
    "    \"\"\"Documenta el proceso de generación de imágenes\"\"\"\n",
    "    print(f\"✅ {nombre}\")\n",
    "    print(f\"   Herramienta utilizada: {herramienta}\")\n",
    "    print(f\"   Dimensiones: {'1080x1350' if 'tarjeta' in archivo_resultado else '1920x1080'}\")\n",
    "    print(f\"   Prompt utilizado:\")\n",
    "    print(f\"   {prompt_usado[:100]}...\")\n",
    "    print(f\"   Archivo generado: {archivo_resultado}\")\n",
    "    print(f\"   Justificación: Se eligió {herramienta} por ser gratuita y generar imágenes de calidad educativa\")\n",
    "    print(\"-\" * 50)\n",
    "\n",
    "# Documentamos las imágenes que se generarían\n",
    "print(\"\\n📋 MATERIAL VISUAL A GENERAR:\")\n",
    "print(\"=\" * 50)"
   ]
  },
  {
   "cell_type": "code",
   "execution_count": null,
   "metadata": {},
   "outputs": [],
   "source": [
    "documentar_imagen_generada(\n",
    "    \"Tarjeta de Ejercicio: Sentadillas Asistidas con Silla\",\n",
    "    \"NightCafe\",\n",
    "    prompts_imagen[\"tarjeta_sentadillas\"],\n",
    "    \"sentadillas_asistidas.png\"\n",
    ")\n",
    "\n",
    "# Tarjeta 2: Remo con banda\n",
    "documentar_imagen_generada(\n",
    "    \"Tarjeta de Ejercicio: Remo con Banda Elástica\",\n",
    "    \"NightCafe\",\n",
    "    prompts_imagen[\"tarjeta_remo\"],\n",
    "    \"remo_banda_elastica.png\"\n",
    ")\n",
    "\n",
    "# Infografía semanal\n",
    "documentar_imagen_generada(\n",
    "    \"Infografía Semanal de Entrenamiento\",\n",
    "    \"Leonardo AI\",\n",
    "    prompts_imagen[\"infografia_semanal\"],\n",
    "    \"infografia_semanal.png\"\n",
    ")\n",
    "\n",
    "print(\"\\n🔄 PROCESO DE FAST PROMPTING PARA IMÁGENES:\")\n",
    "print(\"=\" * 50)\n",
    "print(\"1. OPTIMIZACIÓN: Los prompts incluyen dimensiones específicas y estilo deseado\")\n",
    "print(\"2. PERSONALIZACIÓN: Adaptados al usuario ejemplo (mujer, principiante, lesión rodilla)\")\n",
    "print(\"3. CONSISTENCIA: Mismo estilo visual para todas las tarjetas\")\n",
    "print(\"4. FUNCIONALIDAD: Diseño educativo e instructivo\")"
   ]
  },
  {
   "cell_type": "markdown",
   "metadata": {},
   "source": [
    "Función para generar prompt dinámico de imagen"
   ]
  },
  {
   "cell_type": "code",
   "execution_count": null,
   "metadata": {},
   "outputs": [],
   "source": [
    "def generar_prompt_tarjeta(ejercicio, nivel, limitacion=None):\n",
    "    \"\"\"Genera prompts dinámicos para tarjetas de ejercicio\"\"\"\n",
    "    \n",
    "    base_prompt = f\"\"\"\n",
    "    Create a vertical fitness instruction card (1080x1350) showing \"{ejercicio}\". \n",
    "    Three numbered steps showing proper form. Include \"{nivel.upper()} LEVEL\" badge. \n",
    "    Clean minimalist style, educational fitness illustration.\n",
    "    \"\"\"\n",
    "    \n",
    "    if limitacion:\n",
    "        base_prompt += f' Include \"{limitacion.upper()}\" modification label.'\n",
    "    \n",
    "    return base_prompt.strip()\n",
    "\n",
    "print(\"\\n🚀 EJEMPLO DE GENERACIÓN DINÁMICA:\")\n",
    "print(\"=\" * 50)\n",
    "\n",
    "nuevo_prompt = generar_prompt_tarjeta(\n",
    "    ejercicio=\"Wall Push-ups\", \n",
    "    nivel=\"beginner\",\n",
    "    limitacion=\"knee-friendly\"\n",
    ")\n",
    "\n",
    "print(\"Prompt generado dinámicamente:\")\n",
    "print(nuevo_prompt)\n",
    "\n",
    "print(\"\\n💡 TÉCNICAS DE FAST PROMPTING APLICADAS:\")\n",
    "print(\"=\" * 50)\n",
    "print(\"✅ Dimensiones específicas incluidas en el prompt\")\n",
    "print(\"✅ Estilo consistente definido ('minimalist', 'educational')\")\n",
    "print(\"✅ Elementos requeridos especificados ('3 steps', 'level badge')\")\n",
    "print(\"✅ Contexto del usuario integrado ('knee-friendly', 'beginner')\")\n",
    "print(\"✅ Generación batch de múltiples imágenes con plantillas\")\n",
    "\n",
    "print(\"\\n📊 RESULTADOS ESPERADOS:\")\n",
    "print(\"=\" * 50)\n",
    "print(\"- Tarjetas de ejercicio claras e instructivas\")\n",
    "print(\"- Infografía semanal profesional y legible\")  \n",
    "print(\"- Consistencia visual en todo el material\")\n",
    "print(\"- Adaptación específica al perfil del usuario\")\n",
    "print(\"- Material listo para usar en la aplicación\")\n"
   ]
  },
  {
   "cell_type": "markdown",
   "metadata": {},
   "source": [
    "Simulación de resultados (para la documentación)"
   ]
  },
  {
   "cell_type": "code",
   "execution_count": null,
   "metadata": {},
   "outputs": [],
   "source": [
    "resultados_simulados = {\n",
    "    \"tarjetas_generadas\": 2,\n",
    "    \"infografias_generadas\": 1, \n",
    "    \"tiempo_total_generacion\": \"15 minutos\",\n",
    "    \"herramientas_utilizadas\": [\"NightCafe\", \"Leonardo AI\"],\n",
    "    \"calidad_obtenida\": \"Alta - apta para uso educativo\"\n",
    "}\n",
    "\n",
    "print(f\"\\n📈 MÉTRICAS DEL PROCESO:\")\n",
    "print(\"=\" * 50)\n",
    "for metric, value in resultados_simulados.items():\n",
    "    print(f\"{metric.replace('_', ' ').title()}: {value}\")\n"
   ]
  },
  {
   "cell_type": "markdown",
   "metadata": {},
   "source": [
    "### 12. Conclusiones\n",
    "\n",
    "**Logros del proyecto:**\n",
    "- ✅ Usando Fast Prompting pudimos optimizar la salida (tablas, secciones claras)\n",
    "- ✅ Se redujo el número de consultas al agrupar varias instrucciones en un solo prompt\n",
    "- ✅ El sistema permite personalización rápida para distintos usuarios\n",
    "- ✅ Implementación modular y reutilizable\n",
    "\n",
    "**Limitaciones identificadas:**\n",
    "- Costo de API por consulta\n",
    "- Calidad de imágenes (requiere integración externa)\n",
    "- Límite de tokens por respuesta"
   ]
  },
  {
   "cell_type": "markdown",
   "metadata": {},
   "source": [
    "---\n",
    "\n",
    "**¡Notebook completado!** 🎉\n",
    "\n",
    "Para usar este notebook:\n",
    "1. Configura tu API Key de OpenAI\n",
    "2. Ejecuta todas las celdas en orden\n",
    "3. Modifica los datos de usuario según tus necesidades\n",
    "4. Experimenta con diferentes prompts y configuraciones"
   ]
  }
 ],
 "metadata": {
  "kernelspec": {
   "display_name": "Python 3",
   "language": "python",
   "name": "python3"
  },
  "language_info": {
   "codemirror_mode": {
    "name": "ipython",
    "version": 3
   },
   "file_extension": ".py",
   "mimetype": "text/x-python",
   "name": "python",
   "nbconvert_exporter": "python",
   "pygments_lexer": "ipython3",
   "version": "3.8.5"
  }
 },
 "nbformat": 4,
 "nbformat_minor": 4
}
